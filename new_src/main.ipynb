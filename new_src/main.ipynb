{
 "metadata": {
  "language_info": {
   "codemirror_mode": {
    "name": "ipython",
    "version": 3
   },
   "file_extension": ".py",
   "mimetype": "text/x-python",
   "name": "python",
   "nbconvert_exporter": "python",
   "pygments_lexer": "ipython3",
   "version": "3.8.6"
  },
  "orig_nbformat": 2,
  "kernelspec": {
   "name": "python386jvsc74a57bd0b0ce89966221c81950972a5ac6bfe3be330d951806143518144498a07d47d3c4",
   "display_name": "Python 3.8.6 64-bit"
  }
 },
 "nbformat": 4,
 "nbformat_minor": 2,
 "cells": [
  {
   "cell_type": "code",
   "execution_count": 1,
   "metadata": {},
   "outputs": [],
   "source": [
    "alphanum = \"abcdefghijklmnopqrstuvwxyz0123456789\"\n",
    "touchesspe = [\"CTRL\", \"ENTER\", \"NOKEY\", \"SHIFT\", \"SPACE\", \"SUPPR\"]"
   ]
  },
  {
   "cell_type": "code",
   "execution_count": 2,
   "metadata": {},
   "outputs": [
    {
     "output_type": "stream",
     "name": "stdout",
     "text": [
      "Ouverture du fichier de pics ../input/Hackaton/data/pics_a.bin\n",
      "Ouverture du fichier de pics ../input/Hackaton/data/pics_b.bin\n",
      "Ouverture du fichier de pics ../input/Hackaton/data/pics_c.bin\n",
      "Ouverture du fichier de pics ../input/Hackaton/data/pics_d.bin\n",
      "Ouverture du fichier de pics ../input/Hackaton/data/pics_e.bin\n",
      "Ouverture du fichier de pics ../input/Hackaton/data/pics_f.bin\n",
      "Ouverture du fichier de pics ../input/Hackaton/data/pics_g.bin\n",
      "Ouverture du fichier de pics ../input/Hackaton/data/pics_h.bin\n",
      "Ouverture du fichier de pics ../input/Hackaton/data/pics_i.bin\n",
      "Ouverture du fichier de pics ../input/Hackaton/data/pics_j.bin\n",
      "Ouverture du fichier de pics ../input/Hackaton/data/pics_k.bin\n",
      "Ouverture du fichier de pics ../input/Hackaton/data/pics_l.bin\n",
      "Ouverture du fichier de pics ../input/Hackaton/data/pics_m.bin\n",
      "Ouverture du fichier de pics ../input/Hackaton/data/pics_n.bin\n",
      "Ouverture du fichier de pics ../input/Hackaton/data/pics_o.bin\n",
      "Ouverture du fichier de pics ../input/Hackaton/data/pics_p.bin\n",
      "Ouverture du fichier de pics ../input/Hackaton/data/pics_q.bin\n",
      "Ouverture du fichier de pics ../input/Hackaton/data/pics_r.bin\n",
      "Ouverture du fichier de pics ../input/Hackaton/data/pics_s.bin\n",
      "Ouverture du fichier de pics ../input/Hackaton/data/pics_t.bin\n",
      "Ouverture du fichier de pics ../input/Hackaton/data/pics_u.bin\n",
      "Ouverture du fichier de pics ../input/Hackaton/data/pics_v.bin\n",
      "Ouverture du fichier de pics ../input/Hackaton/data/pics_w.bin\n",
      "Ouverture du fichier de pics ../input/Hackaton/data/pics_x.bin\n",
      "Ouverture du fichier de pics ../input/Hackaton/data/pics_y.bin\n",
      "Ouverture du fichier de pics ../input/Hackaton/data/pics_z.bin\n",
      "Ouverture du fichier de pics ../input/Hackaton/data/pics_0.bin\n",
      "Ouverture du fichier de pics ../input/Hackaton/data/pics_1.bin\n",
      "Ouverture du fichier de pics ../input/Hackaton/data/pics_2.bin\n",
      "Ouverture du fichier de pics ../input/Hackaton/data/pics_3.bin\n",
      "Ouverture du fichier de pics ../input/Hackaton/data/pics_4.bin\n",
      "Ouverture du fichier de pics ../input/Hackaton/data/pics_5.bin\n",
      "Ouverture du fichier de pics ../input/Hackaton/data/pics_6.bin\n",
      "Ouverture du fichier de pics ../input/Hackaton/data/pics_7.bin\n",
      "Ouverture du fichier de pics ../input/Hackaton/data/pics_8.bin\n",
      "Ouverture du fichier de pics ../input/Hackaton/data/pics_9.bin\n",
      "Ouverture du fichier de pics ../input/Hackaton/data/pics_CTRL.bin\n",
      "Ouverture du fichier de pics ../input/Hackaton/data/pics_ENTER.bin\n",
      "Ouverture du fichier de pics ../input/Hackaton/data/pics_NOKEY.bin\n",
      "Ouverture du fichier de pics ../input/Hackaton/data/pics_SHIFT.bin\n",
      "Ouverture du fichier de pics ../input/Hackaton/data/pics_SPACE.bin\n",
      "Ouverture du fichier de pics ../input/Hackaton/data/pics_SUPPR.bin\n",
      "Loaded Dataframe\n"
     ]
    }
   ],
   "source": [
    "from legacy.prepare_data import generate_dataset_dataframe\n",
    "\n",
    "df, df_cleaned = generate_dataset_dataframe(alphanum, touchesspe, True)"
   ]
  },
  {
   "cell_type": "code",
   "execution_count": 3,
   "metadata": {},
   "outputs": [
    {
     "output_type": "stream",
     "name": "stdout",
     "text": [
      "0     0.618661\n1     0.456197\n2     0.289616\n3     0.752928\n4     0.712836\n5     0.647221\n6     0.693723\n7     0.677172\n8     0.632864\n9     0.338644\n10    0.577222\n11    0.580500\n12    0.430818\n13    0.659118\n14    1.428796\n15    0.866068\n16    0.338967\ndtype: float64\n"
     ]
    },
    {
     "output_type": "display_data",
     "data": {
      "text/plain": "<Figure size 432x288 with 1 Axes>",
      "image/svg+xml": "<?xml version=\"1.0\" encoding=\"utf-8\" standalone=\"no\"?>\r\n<!DOCTYPE svg PUBLIC \"-//W3C//DTD SVG 1.1//EN\"\r\n  \"http://www.w3.org/Graphics/SVG/1.1/DTD/svg11.dtd\">\r\n<svg height=\"248.518125pt\" version=\"1.1\" viewBox=\"0 0 372.103125 248.518125\" width=\"372.103125pt\" xmlns=\"http://www.w3.org/2000/svg\" xmlns:xlink=\"http://www.w3.org/1999/xlink\">\r\n <metadata>\r\n  <rdf:RDF xmlns:cc=\"http://creativecommons.org/ns#\" xmlns:dc=\"http://purl.org/dc/elements/1.1/\" xmlns:rdf=\"http://www.w3.org/1999/02/22-rdf-syntax-ns#\">\r\n   <cc:Work>\r\n    <dc:type rdf:resource=\"http://purl.org/dc/dcmitype/StillImage\"/>\r\n    <dc:date>2021-04-05T18:57:57.257382</dc:date>\r\n    <dc:format>image/svg+xml</dc:format>\r\n    <dc:creator>\r\n     <cc:Agent>\r\n      <dc:title>Matplotlib v3.4.0, https://matplotlib.org/</dc:title>\r\n     </cc:Agent>\r\n    </dc:creator>\r\n   </cc:Work>\r\n  </rdf:RDF>\r\n </metadata>\r\n <defs>\r\n  <style type=\"text/css\">*{stroke-linecap:butt;stroke-linejoin:round;}</style>\r\n </defs>\r\n <g id=\"figure_1\">\r\n  <g id=\"patch_1\">\r\n   <path d=\"M 0 248.518125 \r\nL 372.103125 248.518125 \r\nL 372.103125 0 \r\nL 0 0 \r\nz\r\n\" style=\"fill:none;\"/>\r\n  </g>\r\n  <g id=\"axes_1\">\r\n   <g id=\"patch_2\">\r\n    <path d=\"M 30.103125 224.64 \r\nL 364.903125 224.64 \r\nL 364.903125 7.2 \r\nL 30.103125 7.2 \r\nz\r\n\" style=\"fill:#ffffff;\"/>\r\n   </g>\r\n   <g id=\"matplotlib.axis_1\">\r\n    <g id=\"xtick_1\">\r\n     <g id=\"line2d_1\">\r\n      <defs>\r\n       <path d=\"M 0 0 \r\nL 0 3.5 \r\n\" id=\"mdbc41e9329\" style=\"stroke:#000000;stroke-width:0.8;\"/>\r\n      </defs>\r\n      <g>\r\n       <use style=\"stroke:#000000;stroke-width:0.8;\" x=\"45.321307\" xlink:href=\"#mdbc41e9329\" y=\"224.64\"/>\r\n      </g>\r\n     </g>\r\n     <g id=\"text_1\">\r\n      <!-- 0 -->\r\n      <g transform=\"translate(42.140057 239.238437)scale(0.1 -0.1)\">\r\n       <defs>\r\n        <path d=\"M 2034 4250 \r\nQ 1547 4250 1301 3770 \r\nQ 1056 3291 1056 2328 \r\nQ 1056 1369 1301 889 \r\nQ 1547 409 2034 409 \r\nQ 2525 409 2770 889 \r\nQ 3016 1369 3016 2328 \r\nQ 3016 3291 2770 3770 \r\nQ 2525 4250 2034 4250 \r\nz\r\nM 2034 4750 \r\nQ 2819 4750 3233 4129 \r\nQ 3647 3509 3647 2328 \r\nQ 3647 1150 3233 529 \r\nQ 2819 -91 2034 -91 \r\nQ 1250 -91 836 529 \r\nQ 422 1150 422 2328 \r\nQ 422 3509 836 4129 \r\nQ 1250 4750 2034 4750 \r\nz\r\n\" id=\"DejaVuSans-30\" transform=\"scale(0.015625)\"/>\r\n       </defs>\r\n       <use xlink:href=\"#DejaVuSans-30\"/>\r\n      </g>\r\n     </g>\r\n    </g>\r\n    <g id=\"xtick_2\">\r\n     <g id=\"line2d_2\">\r\n      <g>\r\n       <use style=\"stroke:#000000;stroke-width:0.8;\" x=\"83.366761\" xlink:href=\"#mdbc41e9329\" y=\"224.64\"/>\r\n      </g>\r\n     </g>\r\n     <g id=\"text_2\">\r\n      <!-- 2 -->\r\n      <g transform=\"translate(80.185511 239.238437)scale(0.1 -0.1)\">\r\n       <defs>\r\n        <path d=\"M 1228 531 \r\nL 3431 531 \r\nL 3431 0 \r\nL 469 0 \r\nL 469 531 \r\nQ 828 903 1448 1529 \r\nQ 2069 2156 2228 2338 \r\nQ 2531 2678 2651 2914 \r\nQ 2772 3150 2772 3378 \r\nQ 2772 3750 2511 3984 \r\nQ 2250 4219 1831 4219 \r\nQ 1534 4219 1204 4116 \r\nQ 875 4013 500 3803 \r\nL 500 4441 \r\nQ 881 4594 1212 4672 \r\nQ 1544 4750 1819 4750 \r\nQ 2544 4750 2975 4387 \r\nQ 3406 4025 3406 3419 \r\nQ 3406 3131 3298 2873 \r\nQ 3191 2616 2906 2266 \r\nQ 2828 2175 2409 1742 \r\nQ 1991 1309 1228 531 \r\nz\r\n\" id=\"DejaVuSans-32\" transform=\"scale(0.015625)\"/>\r\n       </defs>\r\n       <use xlink:href=\"#DejaVuSans-32\"/>\r\n      </g>\r\n     </g>\r\n    </g>\r\n    <g id=\"xtick_3\">\r\n     <g id=\"line2d_3\">\r\n      <g>\r\n       <use style=\"stroke:#000000;stroke-width:0.8;\" x=\"121.412216\" xlink:href=\"#mdbc41e9329\" y=\"224.64\"/>\r\n      </g>\r\n     </g>\r\n     <g id=\"text_3\">\r\n      <!-- 4 -->\r\n      <g transform=\"translate(118.230966 239.238437)scale(0.1 -0.1)\">\r\n       <defs>\r\n        <path d=\"M 2419 4116 \r\nL 825 1625 \r\nL 2419 1625 \r\nL 2419 4116 \r\nz\r\nM 2253 4666 \r\nL 3047 4666 \r\nL 3047 1625 \r\nL 3713 1625 \r\nL 3713 1100 \r\nL 3047 1100 \r\nL 3047 0 \r\nL 2419 0 \r\nL 2419 1100 \r\nL 313 1100 \r\nL 313 1709 \r\nL 2253 4666 \r\nz\r\n\" id=\"DejaVuSans-34\" transform=\"scale(0.015625)\"/>\r\n       </defs>\r\n       <use xlink:href=\"#DejaVuSans-34\"/>\r\n      </g>\r\n     </g>\r\n    </g>\r\n    <g id=\"xtick_4\">\r\n     <g id=\"line2d_4\">\r\n      <g>\r\n       <use style=\"stroke:#000000;stroke-width:0.8;\" x=\"159.45767\" xlink:href=\"#mdbc41e9329\" y=\"224.64\"/>\r\n      </g>\r\n     </g>\r\n     <g id=\"text_4\">\r\n      <!-- 6 -->\r\n      <g transform=\"translate(156.27642 239.238437)scale(0.1 -0.1)\">\r\n       <defs>\r\n        <path d=\"M 2113 2584 \r\nQ 1688 2584 1439 2293 \r\nQ 1191 2003 1191 1497 \r\nQ 1191 994 1439 701 \r\nQ 1688 409 2113 409 \r\nQ 2538 409 2786 701 \r\nQ 3034 994 3034 1497 \r\nQ 3034 2003 2786 2293 \r\nQ 2538 2584 2113 2584 \r\nz\r\nM 3366 4563 \r\nL 3366 3988 \r\nQ 3128 4100 2886 4159 \r\nQ 2644 4219 2406 4219 \r\nQ 1781 4219 1451 3797 \r\nQ 1122 3375 1075 2522 \r\nQ 1259 2794 1537 2939 \r\nQ 1816 3084 2150 3084 \r\nQ 2853 3084 3261 2657 \r\nQ 3669 2231 3669 1497 \r\nQ 3669 778 3244 343 \r\nQ 2819 -91 2113 -91 \r\nQ 1303 -91 875 529 \r\nQ 447 1150 447 2328 \r\nQ 447 3434 972 4092 \r\nQ 1497 4750 2381 4750 \r\nQ 2619 4750 2861 4703 \r\nQ 3103 4656 3366 4563 \r\nz\r\n\" id=\"DejaVuSans-36\" transform=\"scale(0.015625)\"/>\r\n       </defs>\r\n       <use xlink:href=\"#DejaVuSans-36\"/>\r\n      </g>\r\n     </g>\r\n    </g>\r\n    <g id=\"xtick_5\">\r\n     <g id=\"line2d_5\">\r\n      <g>\r\n       <use style=\"stroke:#000000;stroke-width:0.8;\" x=\"197.503125\" xlink:href=\"#mdbc41e9329\" y=\"224.64\"/>\r\n      </g>\r\n     </g>\r\n     <g id=\"text_5\">\r\n      <!-- 8 -->\r\n      <g transform=\"translate(194.321875 239.238437)scale(0.1 -0.1)\">\r\n       <defs>\r\n        <path d=\"M 2034 2216 \r\nQ 1584 2216 1326 1975 \r\nQ 1069 1734 1069 1313 \r\nQ 1069 891 1326 650 \r\nQ 1584 409 2034 409 \r\nQ 2484 409 2743 651 \r\nQ 3003 894 3003 1313 \r\nQ 3003 1734 2745 1975 \r\nQ 2488 2216 2034 2216 \r\nz\r\nM 1403 2484 \r\nQ 997 2584 770 2862 \r\nQ 544 3141 544 3541 \r\nQ 544 4100 942 4425 \r\nQ 1341 4750 2034 4750 \r\nQ 2731 4750 3128 4425 \r\nQ 3525 4100 3525 3541 \r\nQ 3525 3141 3298 2862 \r\nQ 3072 2584 2669 2484 \r\nQ 3125 2378 3379 2068 \r\nQ 3634 1759 3634 1313 \r\nQ 3634 634 3220 271 \r\nQ 2806 -91 2034 -91 \r\nQ 1263 -91 848 271 \r\nQ 434 634 434 1313 \r\nQ 434 1759 690 2068 \r\nQ 947 2378 1403 2484 \r\nz\r\nM 1172 3481 \r\nQ 1172 3119 1398 2916 \r\nQ 1625 2713 2034 2713 \r\nQ 2441 2713 2670 2916 \r\nQ 2900 3119 2900 3481 \r\nQ 2900 3844 2670 4047 \r\nQ 2441 4250 2034 4250 \r\nQ 1625 4250 1398 4047 \r\nQ 1172 3844 1172 3481 \r\nz\r\n\" id=\"DejaVuSans-38\" transform=\"scale(0.015625)\"/>\r\n       </defs>\r\n       <use xlink:href=\"#DejaVuSans-38\"/>\r\n      </g>\r\n     </g>\r\n    </g>\r\n    <g id=\"xtick_6\">\r\n     <g id=\"line2d_6\">\r\n      <g>\r\n       <use style=\"stroke:#000000;stroke-width:0.8;\" x=\"235.54858\" xlink:href=\"#mdbc41e9329\" y=\"224.64\"/>\r\n      </g>\r\n     </g>\r\n     <g id=\"text_6\">\r\n      <!-- 10 -->\r\n      <g transform=\"translate(229.18608 239.238437)scale(0.1 -0.1)\">\r\n       <defs>\r\n        <path d=\"M 794 531 \r\nL 1825 531 \r\nL 1825 4091 \r\nL 703 3866 \r\nL 703 4441 \r\nL 1819 4666 \r\nL 2450 4666 \r\nL 2450 531 \r\nL 3481 531 \r\nL 3481 0 \r\nL 794 0 \r\nL 794 531 \r\nz\r\n\" id=\"DejaVuSans-31\" transform=\"scale(0.015625)\"/>\r\n       </defs>\r\n       <use xlink:href=\"#DejaVuSans-31\"/>\r\n       <use x=\"63.623047\" xlink:href=\"#DejaVuSans-30\"/>\r\n      </g>\r\n     </g>\r\n    </g>\r\n    <g id=\"xtick_7\">\r\n     <g id=\"line2d_7\">\r\n      <g>\r\n       <use style=\"stroke:#000000;stroke-width:0.8;\" x=\"273.594034\" xlink:href=\"#mdbc41e9329\" y=\"224.64\"/>\r\n      </g>\r\n     </g>\r\n     <g id=\"text_7\">\r\n      <!-- 12 -->\r\n      <g transform=\"translate(267.231534 239.238437)scale(0.1 -0.1)\">\r\n       <use xlink:href=\"#DejaVuSans-31\"/>\r\n       <use x=\"63.623047\" xlink:href=\"#DejaVuSans-32\"/>\r\n      </g>\r\n     </g>\r\n    </g>\r\n    <g id=\"xtick_8\">\r\n     <g id=\"line2d_8\">\r\n      <g>\r\n       <use style=\"stroke:#000000;stroke-width:0.8;\" x=\"311.639489\" xlink:href=\"#mdbc41e9329\" y=\"224.64\"/>\r\n      </g>\r\n     </g>\r\n     <g id=\"text_8\">\r\n      <!-- 14 -->\r\n      <g transform=\"translate(305.276989 239.238437)scale(0.1 -0.1)\">\r\n       <use xlink:href=\"#DejaVuSans-31\"/>\r\n       <use x=\"63.623047\" xlink:href=\"#DejaVuSans-34\"/>\r\n      </g>\r\n     </g>\r\n    </g>\r\n    <g id=\"xtick_9\">\r\n     <g id=\"line2d_9\">\r\n      <g>\r\n       <use style=\"stroke:#000000;stroke-width:0.8;\" x=\"349.684943\" xlink:href=\"#mdbc41e9329\" y=\"224.64\"/>\r\n      </g>\r\n     </g>\r\n     <g id=\"text_9\">\r\n      <!-- 16 -->\r\n      <g transform=\"translate(343.322443 239.238437)scale(0.1 -0.1)\">\r\n       <use xlink:href=\"#DejaVuSans-31\"/>\r\n       <use x=\"63.623047\" xlink:href=\"#DejaVuSans-36\"/>\r\n      </g>\r\n     </g>\r\n    </g>\r\n   </g>\r\n   <g id=\"matplotlib.axis_2\">\r\n    <g id=\"ytick_1\">\r\n     <g id=\"line2d_10\">\r\n      <defs>\r\n       <path d=\"M 0 0 \r\nL -3.5 0 \r\n\" id=\"meed0623292\" style=\"stroke:#000000;stroke-width:0.8;\"/>\r\n      </defs>\r\n      <g>\r\n       <use style=\"stroke:#000000;stroke-width:0.8;\" x=\"30.103125\" xlink:href=\"#meed0623292\" y=\"196.152534\"/>\r\n      </g>\r\n     </g>\r\n     <g id=\"text_10\">\r\n      <!-- 0.4 -->\r\n      <g transform=\"translate(7.2 199.951753)scale(0.1 -0.1)\">\r\n       <defs>\r\n        <path d=\"M 684 794 \r\nL 1344 794 \r\nL 1344 0 \r\nL 684 0 \r\nL 684 794 \r\nz\r\n\" id=\"DejaVuSans-2e\" transform=\"scale(0.015625)\"/>\r\n       </defs>\r\n       <use xlink:href=\"#DejaVuSans-30\"/>\r\n       <use x=\"63.623047\" xlink:href=\"#DejaVuSans-2e\"/>\r\n       <use x=\"95.410156\" xlink:href=\"#DejaVuSans-34\"/>\r\n      </g>\r\n     </g>\r\n    </g>\r\n    <g id=\"ytick_2\">\r\n     <g id=\"line2d_11\">\r\n      <g>\r\n       <use style=\"stroke:#000000;stroke-width:0.8;\" x=\"30.103125\" xlink:href=\"#meed0623292\" y=\"163.01711\"/>\r\n      </g>\r\n     </g>\r\n     <g id=\"text_11\">\r\n      <!-- 0.6 -->\r\n      <g transform=\"translate(7.2 166.816329)scale(0.1 -0.1)\">\r\n       <use xlink:href=\"#DejaVuSans-30\"/>\r\n       <use x=\"63.623047\" xlink:href=\"#DejaVuSans-2e\"/>\r\n       <use x=\"95.410156\" xlink:href=\"#DejaVuSans-36\"/>\r\n      </g>\r\n     </g>\r\n    </g>\r\n    <g id=\"ytick_3\">\r\n     <g id=\"line2d_12\">\r\n      <g>\r\n       <use style=\"stroke:#000000;stroke-width:0.8;\" x=\"30.103125\" xlink:href=\"#meed0623292\" y=\"129.881686\"/>\r\n      </g>\r\n     </g>\r\n     <g id=\"text_12\">\r\n      <!-- 0.8 -->\r\n      <g transform=\"translate(7.2 133.680905)scale(0.1 -0.1)\">\r\n       <use xlink:href=\"#DejaVuSans-30\"/>\r\n       <use x=\"63.623047\" xlink:href=\"#DejaVuSans-2e\"/>\r\n       <use x=\"95.410156\" xlink:href=\"#DejaVuSans-38\"/>\r\n      </g>\r\n     </g>\r\n    </g>\r\n    <g id=\"ytick_4\">\r\n     <g id=\"line2d_13\">\r\n      <g>\r\n       <use style=\"stroke:#000000;stroke-width:0.8;\" x=\"30.103125\" xlink:href=\"#meed0623292\" y=\"96.746262\"/>\r\n      </g>\r\n     </g>\r\n     <g id=\"text_13\">\r\n      <!-- 1.0 -->\r\n      <g transform=\"translate(7.2 100.545481)scale(0.1 -0.1)\">\r\n       <use xlink:href=\"#DejaVuSans-31\"/>\r\n       <use x=\"63.623047\" xlink:href=\"#DejaVuSans-2e\"/>\r\n       <use x=\"95.410156\" xlink:href=\"#DejaVuSans-30\"/>\r\n      </g>\r\n     </g>\r\n    </g>\r\n    <g id=\"ytick_5\">\r\n     <g id=\"line2d_14\">\r\n      <g>\r\n       <use style=\"stroke:#000000;stroke-width:0.8;\" x=\"30.103125\" xlink:href=\"#meed0623292\" y=\"63.610839\"/>\r\n      </g>\r\n     </g>\r\n     <g id=\"text_14\">\r\n      <!-- 1.2 -->\r\n      <g transform=\"translate(7.2 67.410057)scale(0.1 -0.1)\">\r\n       <use xlink:href=\"#DejaVuSans-31\"/>\r\n       <use x=\"63.623047\" xlink:href=\"#DejaVuSans-2e\"/>\r\n       <use x=\"95.410156\" xlink:href=\"#DejaVuSans-32\"/>\r\n      </g>\r\n     </g>\r\n    </g>\r\n    <g id=\"ytick_6\">\r\n     <g id=\"line2d_15\">\r\n      <g>\r\n       <use style=\"stroke:#000000;stroke-width:0.8;\" x=\"30.103125\" xlink:href=\"#meed0623292\" y=\"30.475415\"/>\r\n      </g>\r\n     </g>\r\n     <g id=\"text_15\">\r\n      <!-- 1.4 -->\r\n      <g transform=\"translate(7.2 34.274634)scale(0.1 -0.1)\">\r\n       <use xlink:href=\"#DejaVuSans-31\"/>\r\n       <use x=\"63.623047\" xlink:href=\"#DejaVuSans-2e\"/>\r\n       <use x=\"95.410156\" xlink:href=\"#DejaVuSans-34\"/>\r\n      </g>\r\n     </g>\r\n    </g>\r\n   </g>\r\n   <g id=\"line2d_16\">\r\n    <path clip-path=\"url(#p103ebdca7a)\" d=\"M 45.321307 160.865332 \r\nL 64.344034 189.278464 \r\nL 83.366761 214.756364 \r\nL 102.389489 138.608923 \r\nL 121.412216 146.137967 \r\nL 140.434943 156.186849 \r\nL 159.45767 149.022251 \r\nL 178.480398 151.732272 \r\nL 197.503125 159.756096 \r\nL 216.525852 208.261369 \r\nL 235.54858 167.164974 \r\nL 254.571307 167.836098 \r\nL 273.594034 192.398139 \r\nL 292.616761 153.203992 \r\nL 311.639489 17.083636 \r\nL 330.662216 120.621715 \r\nL 349.684943 207.990413 \r\n\" style=\"fill:none;stroke:#1f77b4;stroke-linecap:square;stroke-width:1.5;\"/>\r\n   </g>\r\n   <g id=\"line2d_17\">\r\n    <path clip-path=\"url(#p103ebdca7a)\" d=\"M 45.321307 160.507698 \r\nL 64.344034 188.095577 \r\nL 83.366761 214.640169 \r\nL 102.389489 139.851032 \r\nL 121.412216 146.035141 \r\nL 140.434943 156.716945 \r\nL 159.45767 149.811933 \r\nL 178.480398 151.825683 \r\nL 197.503125 159.013823 \r\nL 216.525852 207.532007 \r\nL 235.54858 168.04074 \r\nL 254.571307 166.671746 \r\nL 273.594034 191.022208 \r\nL 292.616761 154.996815 \r\nL 311.639489 24.592598 \r\nL 330.662216 120.654912 \r\nL 349.684943 206.673064 \r\n\" style=\"fill:none;stroke:#ff7f0e;stroke-linecap:square;stroke-width:1.5;\"/>\r\n   </g>\r\n   <g id=\"patch_3\">\r\n    <path d=\"M 30.103125 224.64 \r\nL 30.103125 7.2 \r\n\" style=\"fill:none;stroke:#000000;stroke-linecap:square;stroke-linejoin:miter;stroke-width:0.8;\"/>\r\n   </g>\r\n   <g id=\"patch_4\">\r\n    <path d=\"M 364.903125 224.64 \r\nL 364.903125 7.2 \r\n\" style=\"fill:none;stroke:#000000;stroke-linecap:square;stroke-linejoin:miter;stroke-width:0.8;\"/>\r\n   </g>\r\n   <g id=\"patch_5\">\r\n    <path d=\"M 30.103125 224.64 \r\nL 364.903125 224.64 \r\n\" style=\"fill:none;stroke:#000000;stroke-linecap:square;stroke-linejoin:miter;stroke-width:0.8;\"/>\r\n   </g>\r\n   <g id=\"patch_6\">\r\n    <path d=\"M 30.103125 7.2 \r\nL 364.903125 7.2 \r\n\" style=\"fill:none;stroke:#000000;stroke-linecap:square;stroke-linejoin:miter;stroke-width:0.8;\"/>\r\n   </g>\r\n  </g>\r\n </g>\r\n <defs>\r\n  <clipPath id=\"p103ebdca7a\">\r\n   <rect height=\"217.44\" width=\"334.8\" x=\"30.103125\" y=\"7.2\"/>\r\n  </clipPath>\r\n </defs>\r\n</svg>\r\n",
      "image/png": "[encoded data removed]"
     },
     "metadata": {
      "needs_background": "light"
     }
    }
   ],
   "source": [
    "print(df[df.label == \"a\"].mean())\n",
    "df[df.label == \"w\"].mean().plot()\n",
    "df[df.label == \"q\"].mean().plot()\n",
    "import matplotlib.pyplot as plt\n",
    "plt.show()"
   ]
  },
  {
   "cell_type": "code",
   "execution_count": 4,
   "metadata": {},
   "outputs": [
    {
     "output_type": "execute_result",
     "data": {
      "text/plain": [
       "             0         1         2         3         4         5         6  \\\n",
       "1     0.748291  0.410767  0.225220  0.820312  0.364990  0.169678  0.362549   \n",
       "2     0.806274  0.712891  0.238037  0.851440  0.834961  0.722656  0.709839   \n",
       "3     0.524292  0.480957  0.414429  0.534668  1.222534  0.722656  0.599976   \n",
       "6     0.486450  0.404053  0.332642  0.812988  0.592041  0.447998  0.498047   \n",
       "7     0.800171  0.390015  0.391846  0.938110  0.565796  0.778198  0.775757   \n",
       "...        ...       ...       ...       ...       ...       ...       ...   \n",
       "7991  0.925293  1.386719  0.176392  1.013794  0.775146  0.611572  0.732422   \n",
       "7992  0.571289  1.197510  0.431519  0.764160  0.747070  0.761108  0.777588   \n",
       "7993  0.681152  1.428223  0.443115  0.814819  0.755005  0.568237  0.798340   \n",
       "7994  0.551758  1.472168  0.130005  0.890503  0.519409  0.480347  0.935669   \n",
       "7995  0.644531  1.424561  0.424805  0.935059  0.818481  0.638428  0.685425   \n",
       "\n",
       "             7         8         9        10        11        12        13  \\\n",
       "1     0.308228  0.363159  0.385132  0.279541  0.299683  0.330200  0.339355   \n",
       "2     0.664673  0.789795  0.661621  0.877075  0.684204  0.384521  0.759888   \n",
       "3     0.593262  0.741577  0.897827  0.249634  0.699463  0.773926  0.774536   \n",
       "6     0.731201  1.038818  0.410767  0.410767  0.326538  0.499268  0.963745   \n",
       "7     0.759277  0.540161  0.349121  0.628052  0.618286  0.549927  0.517578   \n",
       "...        ...       ...       ...       ...       ...       ...       ...   \n",
       "7991  0.856934  0.950928  0.268555  0.486450  0.728149  0.437012  0.604858   \n",
       "7992  0.548706  0.514526  0.216675  0.776978  0.797729  0.494385  0.798950   \n",
       "7993  1.000977  0.610352  0.386353  0.979004  0.579834  0.332642  0.545654   \n",
       "7994  0.853882  0.552979  0.273438  0.697021  0.530396  0.568237  0.822144   \n",
       "7995  0.604248  0.682983  0.235596  0.421143  0.637817  0.372925  0.662231   \n",
       "\n",
       "            14        15        16  label  \n",
       "1     0.335693  0.224609  0.185547      a  \n",
       "2     1.865234  0.870972  0.414429      a  \n",
       "3     0.999756  1.292725  0.762939      a  \n",
       "6     1.483765  0.703125  0.384521      a  \n",
       "7     1.853027  0.744629  0.402222      a  \n",
       "...        ...       ...       ...    ...  \n",
       "7991  0.842896  0.702515  0.185547  SUPPR  \n",
       "7992  0.711670  0.781860  0.512085  SUPPR  \n",
       "7993  0.863037  0.656128  0.147095  SUPPR  \n",
       "7994  0.820312  0.596924  0.239258  SUPPR  \n",
       "7995  0.643311  0.798340  0.372314  SUPPR  \n",
       "\n",
       "[312943 rows x 18 columns]"
      ],
      "text/html": "<div>\n<style scoped>\n    .dataframe tbody tr th:only-of-type {\n        vertical-align: middle;\n    }\n\n    .dataframe tbody tr th {\n        vertical-align: top;\n    }\n\n    .dataframe thead th {\n        text-align: right;\n    }\n</style>\n<table border=\"1\" class=\"dataframe\">\n  <thead>\n    <tr style=\"text-align: right;\">\n      <th></th>\n      <th>0</th>\n      <th>1</th>\n      <th>2</th>\n      <th>3</th>\n      <th>4</th>\n      <th>5</th>\n      <th>6</th>\n      <th>7</th>\n      <th>8</th>\n      <th>9</th>\n      <th>10</th>\n      <th>11</th>\n      <th>12</th>\n      <th>13</th>\n      <th>14</th>\n      <th>15</th>\n      <th>16</th>\n      <th>label</th>\n    </tr>\n  </thead>\n  <tbody>\n    <tr>\n      <th>1</th>\n      <td>0.748291</td>\n      <td>0.410767</td>\n      <td>0.225220</td>\n      <td>0.820312</td>\n      <td>0.364990</td>\n      <td>0.169678</td>\n      <td>0.362549</td>\n      <td>0.308228</td>\n      <td>0.363159</td>\n      <td>0.385132</td>\n      <td>0.279541</td>\n      <td>0.299683</td>\n      <td>0.330200</td>\n      <td>0.339355</td>\n      <td>0.335693</td>\n      <td>0.224609</td>\n      <td>0.185547</td>\n      <td>a</td>\n    </tr>\n    <tr>\n      <th>2</th>\n      <td>0.806274</td>\n      <td>0.712891</td>\n      <td>0.238037</td>\n      <td>0.851440</td>\n      <td>0.834961</td>\n      <td>0.722656</td>\n      <td>0.709839</td>\n      <td>0.664673</td>\n      <td>0.789795</td>\n      <td>0.661621</td>\n      <td>0.877075</td>\n      <td>0.684204</td>\n      <td>0.384521</td>\n      <td>0.759888</td>\n      <td>1.865234</td>\n      <td>0.870972</td>\n      <td>0.414429</td>\n      <td>a</td>\n    </tr>\n    <tr>\n      <th>3</th>\n      <td>0.524292</td>\n      <td>0.480957</td>\n      <td>0.414429</td>\n      <td>0.534668</td>\n      <td>1.222534</td>\n      <td>0.722656</td>\n      <td>0.599976</td>\n      <td>0.593262</td>\n      <td>0.741577</td>\n      <td>0.897827</td>\n      <td>0.249634</td>\n      <td>0.699463</td>\n      <td>0.773926</td>\n      <td>0.774536</td>\n      <td>0.999756</td>\n      <td>1.292725</td>\n      <td>0.762939</td>\n      <td>a</td>\n    </tr>\n    <tr>\n      <th>6</th>\n      <td>0.486450</td>\n      <td>0.404053</td>\n      <td>0.332642</td>\n      <td>0.812988</td>\n      <td>0.592041</td>\n      <td>0.447998</td>\n      <td>0.498047</td>\n      <td>0.731201</td>\n      <td>1.038818</td>\n      <td>0.410767</td>\n      <td>0.410767</td>\n      <td>0.326538</td>\n      <td>0.499268</td>\n      <td>0.963745</td>\n      <td>1.483765</td>\n      <td>0.703125</td>\n      <td>0.384521</td>\n      <td>a</td>\n    </tr>\n    <tr>\n      <th>7</th>\n      <td>0.800171</td>\n      <td>0.390015</td>\n      <td>0.391846</td>\n      <td>0.938110</td>\n      <td>0.565796</td>\n      <td>0.778198</td>\n      <td>0.775757</td>\n      <td>0.759277</td>\n      <td>0.540161</td>\n      <td>0.349121</td>\n      <td>0.628052</td>\n      <td>0.618286</td>\n      <td>0.549927</td>\n      <td>0.517578</td>\n      <td>1.853027</td>\n      <td>0.744629</td>\n      <td>0.402222</td>\n      <td>a</td>\n    </tr>\n    <tr>\n      <th>...</th>\n      <td>...</td>\n      <td>...</td>\n      <td>...</td>\n      <td>...</td>\n      <td>...</td>\n      <td>...</td>\n      <td>...</td>\n      <td>...</td>\n      <td>...</td>\n      <td>...</td>\n      <td>...</td>\n      <td>...</td>\n      <td>...</td>\n      <td>...</td>\n      <td>...</td>\n      <td>...</td>\n      <td>...</td>\n      <td>...</td>\n    </tr>\n    <tr>\n      <th>7991</th>\n      <td>0.925293</td>\n      <td>1.386719</td>\n      <td>0.176392</td>\n      <td>1.013794</td>\n      <td>0.775146</td>\n      <td>0.611572</td>\n      <td>0.732422</td>\n      <td>0.856934</td>\n      <td>0.950928</td>\n      <td>0.268555</td>\n      <td>0.486450</td>\n      <td>0.728149</td>\n      <td>0.437012</td>\n      <td>0.604858</td>\n      <td>0.842896</td>\n      <td>0.702515</td>\n      <td>0.185547</td>\n      <td>SUPPR</td>\n    </tr>\n    <tr>\n      <th>7992</th>\n      <td>0.571289</td>\n      <td>1.197510</td>\n      <td>0.431519</td>\n      <td>0.764160</td>\n      <td>0.747070</td>\n      <td>0.761108</td>\n      <td>0.777588</td>\n      <td>0.548706</td>\n      <td>0.514526</td>\n      <td>0.216675</td>\n      <td>0.776978</td>\n      <td>0.797729</td>\n      <td>0.494385</td>\n      <td>0.798950</td>\n      <td>0.711670</td>\n      <td>0.781860</td>\n      <td>0.512085</td>\n      <td>SUPPR</td>\n    </tr>\n    <tr>\n      <th>7993</th>\n      <td>0.681152</td>\n      <td>1.428223</td>\n      <td>0.443115</td>\n      <td>0.814819</td>\n      <td>0.755005</td>\n      <td>0.568237</td>\n      <td>0.798340</td>\n      <td>1.000977</td>\n      <td>0.610352</td>\n      <td>0.386353</td>\n      <td>0.979004</td>\n      <td>0.579834</td>\n      <td>0.332642</td>\n      <td>0.545654</td>\n      <td>0.863037</td>\n      <td>0.656128</td>\n      <td>0.147095</td>\n      <td>SUPPR</td>\n    </tr>\n    <tr>\n      <th>7994</th>\n      <td>0.551758</td>\n      <td>1.472168</td>\n      <td>0.130005</td>\n      <td>0.890503</td>\n      <td>0.519409</td>\n      <td>0.480347</td>\n      <td>0.935669</td>\n      <td>0.853882</td>\n      <td>0.552979</td>\n      <td>0.273438</td>\n      <td>0.697021</td>\n      <td>0.530396</td>\n      <td>0.568237</td>\n      <td>0.822144</td>\n      <td>0.820312</td>\n      <td>0.596924</td>\n      <td>0.239258</td>\n      <td>SUPPR</td>\n    </tr>\n    <tr>\n      <th>7995</th>\n      <td>0.644531</td>\n      <td>1.424561</td>\n      <td>0.424805</td>\n      <td>0.935059</td>\n      <td>0.818481</td>\n      <td>0.638428</td>\n      <td>0.685425</td>\n      <td>0.604248</td>\n      <td>0.682983</td>\n      <td>0.235596</td>\n      <td>0.421143</td>\n      <td>0.637817</td>\n      <td>0.372925</td>\n      <td>0.662231</td>\n      <td>0.643311</td>\n      <td>0.798340</td>\n      <td>0.372314</td>\n      <td>SUPPR</td>\n    </tr>\n  </tbody>\n</table>\n<p>312943 rows × 18 columns</p>\n</div>"
     },
     "metadata": {},
     "execution_count": 4
    }
   ],
   "source": [
    "df_cleaned"
   ]
  },
  {
   "cell_type": "code",
   "execution_count": 5,
   "metadata": {},
   "outputs": [
    {
     "output_type": "execute_result",
     "data": {
      "text/plain": [
       "0.9015502339895249"
      ]
     },
     "metadata": {},
     "execution_count": 5
    }
   ],
   "source": [
    "df_cleaned[df_cleaned.label == \"a\"].iloc[11].drop('label').astype('float64').corr(df_cleaned[df_cleaned.label == \"w\"].mean())"
   ]
  },
  {
   "cell_type": "code",
   "execution_count": 6,
   "metadata": {},
   "outputs": [
    {
     "output_type": "stream",
     "name": "stdout",
     "text": [
      "                0            1            2            3            4   \\\ncount  6638.000000  6638.000000  6638.000000  6638.000000  6638.000000   \nmean      0.634030     0.439826     0.263637     0.808713     0.708285   \nstd       0.126047     0.130670     0.116823     0.170088     0.142317   \nmin       0.400391     0.085449     0.000000     0.104980     0.181274   \n25%       0.538940     0.346832     0.181274     0.710449     0.611572   \n50%       0.628052     0.434570     0.249634     0.817261     0.704956   \n75%       0.722046     0.527344     0.327759     0.923462     0.804443   \nmax       1.055298     0.957031     1.128540     1.441040     1.258545   \n\n                5            6            7            8            9   \\\ncount  6638.000000  6638.000000  6638.000000  6638.000000  6638.000000   \nmean      0.643484     0.718099     0.689342     0.639545     0.302521   \nstd       0.139751     0.142879     0.142568     0.141377     0.128619   \nmin       0.166626     0.227051     0.235596     0.112915     0.031738   \n25%       0.551147     0.621338     0.588989     0.543823     0.208740   \n50%       0.642090     0.718384     0.687866     0.639038     0.285034   \n75%       0.736694     0.817108     0.787964     0.735474     0.377197   \nmax       1.125488     1.254883     1.164551     1.089478     0.948486   \n\n                10           11           12           13           14  \\\ncount  6638.000000  6638.000000  6638.000000  6638.000000  6638.000000   \nmean      0.609852     0.569726     0.406636     0.673496     1.559743   \nstd       0.147477     0.138216     0.132306     0.175430     0.256723   \nmin       0.070801     0.097046     0.069580     0.074463     0.115356   \n25%       0.514526     0.476685     0.310059     0.568848     1.439819   \n50%       0.614014     0.568237     0.400391     0.670166     1.593018   \n75%       0.709686     0.660400     0.494232     0.768433     1.726074   \nmax       1.102295     1.911621     1.739502     1.954346     2.243042   \n\n                15           16  \ncount  6638.000000  6638.000000  \nmean      0.844255     0.303894  \nstd       0.202481     0.143150  \nmin       0.049438     0.000000  \n25%       0.725708     0.209351  \n50%       0.830688     0.286255  \n75%       0.944214     0.373535  \nmax       2.070312     1.263428  \n                0            1            2            3            4   \\\ncount  6595.000000  6595.000000  6595.000000  6595.000000  6595.000000   \nmean      0.628408     0.432818     0.262365     0.795250     0.702528   \nstd       0.127443     0.130315     0.119430     0.173023     0.143490   \nmin       0.400391     0.061035     0.000000     0.051880     0.159302   \n25%       0.530396     0.340576     0.180664     0.700989     0.600586   \n50%       0.621338     0.428467     0.245361     0.806274     0.704956   \n75%       0.715942     0.519409     0.323486     0.911255     0.801086   \nmax       1.080933     0.896606     1.087036     1.296997     1.230469   \n\n                5            6            7            8            9   \\\ncount  6595.000000  6595.000000  6595.000000  6595.000000  6595.000000   \nmean      0.637222     0.705899     0.680000     0.632049     0.297377   \nstd       0.139781     0.143700     0.139034     0.141853     0.128545   \nmin       0.150757     0.188599     0.183716     0.054321     0.000000   \n25%       0.539551     0.606079     0.584106     0.536499     0.205383   \n50%       0.635376     0.704956     0.678711     0.634155     0.278320   \n75%       0.733032     0.802612     0.776978     0.728760     0.368042   \nmax       1.100464     1.798706     1.134644     1.114502     1.047974   \n\n                10           11           12           13           14  \\\ncount  6595.000000  6595.000000  6595.000000  6595.000000  6595.000000   \nmean      0.599973     0.560223     0.405941     0.666322     1.575173   \nstd       0.151712     0.148631     0.136291     0.185583     0.280820   \nmin       0.063477     0.007935     0.040283     0.126343     0.006104   \n25%       0.503540     0.462036     0.308838     0.559082     1.457520   \n50%       0.604858     0.557861     0.396729     0.658569     1.619263   \n75%       0.702515     0.653381     0.491333     0.758667     1.752930   \nmax       1.145630     2.030640     1.806030     1.883545     2.191162   \n\n                15           16  \ncount  6595.000000  6595.000000  \nmean      0.838449     0.303383  \nstd       0.218242     0.150107  \nmin       0.025024     0.000000  \n25%       0.716553     0.205078  \n50%       0.822754     0.283203  \n75%       0.935059     0.371704  \nmax       2.073975     1.456909  \n"
     ]
    }
   ],
   "source": [
    "print(df_cleaned[df_cleaned.label == \"a\"].describe())\n",
    "print(df_cleaned[df_cleaned.label == \"q\"].describe())"
   ]
  },
  {
   "cell_type": "code",
   "execution_count": 7,
   "metadata": {},
   "outputs": [],
   "source": [
    "X = df[df.columns[:-1]]\n",
    "y = df['label']\n",
    "X_cleaned = df_cleaned[df_cleaned.columns[:-1]]\n",
    "y_cleaned = df_cleaned['label']"
   ]
  },
  {
   "cell_type": "code",
   "execution_count": 8,
   "metadata": {},
   "outputs": [],
   "source": [
    "from sklearn.model_selection import train_test_split\n",
    "X_train, X_test, y_train, y_test = train_test_split(X, y, test_size=0.15, random_state=42)\n",
    "X_cleaned_train, X_cleaned_test, y_cleaned_train, y_cleaned_test = train_test_split(X_cleaned, y_cleaned, test_size=0.15, random_state=42)"
   ]
  },
  {
   "cell_type": "code",
   "execution_count": 9,
   "metadata": {},
   "outputs": [
    {
     "output_type": "execute_result",
     "data": {
      "text/plain": [
       "RandomForestClassifier()"
      ]
     },
     "metadata": {},
     "execution_count": 9
    }
   ],
   "source": [
    "#RANDOM FORREST\n",
    "from sklearn.ensemble import RandomForestClassifier\n",
    "clf = RandomForestClassifier()\n",
    "clf.fit(X_cleaned_train, y_cleaned_train)"
   ]
  },
  {
   "cell_type": "code",
   "execution_count": 31,
   "metadata": {},
   "outputs": [
    {
     "output_type": "execute_result",
     "data": {
      "text/plain": [
       "GaussianNB()"
      ]
     },
     "metadata": {},
     "execution_count": 31
    }
   ],
   "source": [
    "# from sklearn.naive_bayes import GaussianNB\n",
    "# clf = GaussianNB()\n",
    "# clf.fit(X_cleaned_train, y_cleaned_train)"
   ]
  },
  {
   "cell_type": "code",
   "execution_count": 11,
   "metadata": {},
   "outputs": [
    {
     "output_type": "stream",
     "name": "stdout",
     "text": [
      "Accuracy on training set is : 1.0\n",
      "Accuracy on test set is : 0.8763793561108794\n"
     ]
    }
   ],
   "source": [
    "print(\"Accuracy on training set is : {}\".format(clf.score(X_cleaned_train, y_cleaned_train)))\n",
    "print(\"Accuracy on test set is : {}\".format(clf.score(X_test, y_test)))"
   ]
  },
  {
   "cell_type": "code",
   "execution_count": 35,
   "metadata": {},
   "outputs": [
    {
     "output_type": "stream",
     "name": "stdout",
     "text": [
      "Ouverture du fichier de pics ../input/Hackaton/data/pics_LOGINMDP.bin\n"
     ]
    }
   ],
   "source": [
    "from legacy.read_pics import get_pics_from_file\n",
    "pics_loginmdp, info = get_pics_from_file(\"../input/Hackaton/data/pics_LOGINMDP.bin\")"
   ]
  },
  {
   "cell_type": "code",
   "execution_count": 37,
   "metadata": {},
   "outputs": [],
   "source": [
    "import pandas as pd\n",
    "y_pred = pd.DataFrame(clf.predict(pics_loginmdp))\n",
    "y_pred.to_excel(\"result_login_random_forrest1.xlsx\")"
   ]
  }
 ]
}